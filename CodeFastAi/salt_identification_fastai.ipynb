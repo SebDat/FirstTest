{
 "cells": [
  {
   "cell_type": "markdown",
   "metadata": {
    "colab_type": "text",
    "id": "Bi2hnapjmUbw"
   },
   "source": [
    "\n",
    "![alt text](https://pbs.twimg.com/media/DilKBjUVsAA74j1.jpg)\n",
    "\n",
    "## Background Data\n",
    "\n",
    "- Where there is salt, there is oil.\n",
    "- But where is the salt?\n",
    "- Classifying seismic imaging currently requires human (salt/not salt)\n",
    "- Can we use an algorithm to do this instead? (yes)\n",
    "- Seismic data is like an ultra-sound of the subsurface\n",
    "- It uses wavelengths around 1m to 100m\n",
    "- The Society of Exploration Geophysicists has 10K publications using the keyword 'salt'\n",
    "- We can think of Earth as layered.\n",
    "- Sand gets deposited on top of existing sand. And in comes the salt.\n",
    "- There is an entire research branch dedicated to salt tectonics, that is the movement of salt in the subsurface.\n",
    "\n",
    "## Our steps\n",
    "\n",
    "- Install Dependencies\n",
    "- Upload our Dataset\n",
    "- View the labeled seismic imaging data\n",
    "- Plot the depth distribution in the training data \n",
    "- Plot the proportion of salt vs depth in the training data\n",
    "- Build a U-Net algorithm to learn the mapping between seismic images and the salt filter mask\n"
   ]
  },
  {
   "cell_type": "code",
   "execution_count": 1,
   "metadata": {
    "colab": {
     "base_uri": "https://localhost:8080/",
     "height": 207
    },
    "colab_type": "code",
    "id": "vMhn8b3sqmHd",
    "outputId": "fe5b663d-fa63-40dd-96cd-c0c0d25f3806"
   },
   "outputs": [],
   "source": [
    "#read/write image data\n",
    "#!pip install imageio\n",
    "#deep learning library\n",
    "#!pip install torch\n",
    "#access kaggle datasets from colab\n",
    "#!pip install kaggle\n",
    "#model loading\n",
    "#!pip install ipywidgets"
   ]
  },
  {
   "cell_type": "code",
   "execution_count": 2,
   "metadata": {
    "colab": {},
    "colab_type": "code",
    "id": "Klc_bTWoqZXe"
   },
   "outputs": [],
   "source": [
    "#File input output\n",
    "import os\n",
    "#matrix math\n",
    "import numpy as np\n",
    "#read/write image data\n",
    "import imageio\n",
    "#visualize data\n",
    "import matplotlib.pyplot as plt\n",
    "#data preprocessing \n",
    "import pandas as pd\n",
    "#deep learning\n",
    "import torch\n",
    "#just in case we need a backup datasets\n",
    "from torch.utils import data\n",
    "#will output the plot right below the cell that produces it\n",
    "%matplotlib inline\n",
    "\n",
    "from fastai.conv_learner import *\n"
   ]
  },
  {
   "cell_type": "code",
   "execution_count": 3,
   "metadata": {
    "colab": {
     "base_uri": "https://localhost:8080/",
     "height": 89,
     "resources": {
      "http://localhost:8080/nbextensions/google.colab/files.js": {
       "data": "Ly8gQ29weXJpZ2h0IDIwMTcgR29vZ2xlIExMQwovLwovLyBMaWNlbnNlZCB1bmRlciB0aGUgQXBhY2hlIExpY2Vuc2UsIFZlcnNpb24gMi4wICh0aGUgIkxpY2Vuc2UiKTsKLy8geW91IG1heSBub3QgdXNlIHRoaXMgZmlsZSBleGNlcHQgaW4gY29tcGxpYW5jZSB3aXRoIHRoZSBMaWNlbnNlLgovLyBZb3UgbWF5IG9idGFpbiBhIGNvcHkgb2YgdGhlIExpY2Vuc2UgYXQKLy8KLy8gICAgICBodHRwOi8vd3d3LmFwYWNoZS5vcmcvbGljZW5zZXMvTElDRU5TRS0yLjAKLy8KLy8gVW5sZXNzIHJlcXVpcmVkIGJ5IGFwcGxpY2FibGUgbGF3IG9yIGFncmVlZCB0byBpbiB3cml0aW5nLCBzb2Z0d2FyZQovLyBkaXN0cmlidXRlZCB1bmRlciB0aGUgTGljZW5zZSBpcyBkaXN0cmlidXRlZCBvbiBhbiAiQVMgSVMiIEJBU0lTLAovLyBXSVRIT1VUIFdBUlJBTlRJRVMgT1IgQ09ORElUSU9OUyBPRiBBTlkgS0lORCwgZWl0aGVyIGV4cHJlc3Mgb3IgaW1wbGllZC4KLy8gU2VlIHRoZSBMaWNlbnNlIGZvciB0aGUgc3BlY2lmaWMgbGFuZ3VhZ2UgZ292ZXJuaW5nIHBlcm1pc3Npb25zIGFuZAovLyBsaW1pdGF0aW9ucyB1bmRlciB0aGUgTGljZW5zZS4KCi8qKgogKiBAZmlsZW92ZXJ2aWV3IEhlbHBlcnMgZm9yIGdvb2dsZS5jb2xhYiBQeXRob24gbW9kdWxlLgogKi8KKGZ1bmN0aW9uKHNjb3BlKSB7CmZ1bmN0aW9uIHNwYW4odGV4dCwgc3R5bGVBdHRyaWJ1dGVzID0ge30pIHsKICBjb25zdCBlbGVtZW50ID0gZG9jdW1lbnQuY3JlYXRlRWxlbWVudCgnc3BhbicpOwogIGVsZW1lbnQudGV4dENvbnRlbnQgPSB0ZXh0OwogIGZvciAoY29uc3Qga2V5IG9mIE9iamVjdC5rZXlzKHN0eWxlQXR0cmlidXRlcykpIHsKICAgIGVsZW1lbnQuc3R5bGVba2V5XSA9IHN0eWxlQXR0cmlidXRlc1trZXldOwogIH0KICByZXR1cm4gZWxlbWVudDsKfQoKLy8gTWF4IG51bWJlciBvZiBieXRlcyB3aGljaCB3aWxsIGJlIHVwbG9hZGVkIGF0IGEgdGltZS4KY29uc3QgTUFYX1BBWUxPQURfU0laRSA9IDEwMCAqIDEwMjQ7Ci8vIE1heCBhbW91bnQgb2YgdGltZSB0byBibG9jayB3YWl0aW5nIGZvciB0aGUgdXNlci4KY29uc3QgRklMRV9DSEFOR0VfVElNRU9VVF9NUyA9IDMwICogMTAwMDsKCmZ1bmN0aW9uIF91cGxvYWRGaWxlcyhpbnB1dElkLCBvdXRwdXRJZCkgewogIGNvbnN0IHN0ZXBzID0gdXBsb2FkRmlsZXNTdGVwKGlucHV0SWQsIG91dHB1dElkKTsKICBjb25zdCBvdXRwdXRFbGVtZW50ID0gZG9jdW1lbnQuZ2V0RWxlbWVudEJ5SWQob3V0cHV0SWQpOwogIC8vIENhY2hlIHN0ZXBzIG9uIHRoZSBvdXRwdXRFbGVtZW50IHRvIG1ha2UgaXQgYXZhaWxhYmxlIGZvciB0aGUgbmV4dCBjYWxsCiAgLy8gdG8gdXBsb2FkRmlsZXNDb250aW51ZSBmcm9tIFB5dGhvbi4KICBvdXRwdXRFbGVtZW50LnN0ZXBzID0gc3RlcHM7CgogIHJldHVybiBfdXBsb2FkRmlsZXNDb250aW51ZShvdXRwdXRJZCk7Cn0KCi8vIFRoaXMgaXMgcm91Z2hseSBhbiBhc3luYyBnZW5lcmF0b3IgKG5vdCBzdXBwb3J0ZWQgaW4gdGhlIGJyb3dzZXIgeWV0KSwKLy8gd2hlcmUgdGhlcmUgYXJlIG11bHRpcGxlIGFzeW5jaHJvbm91cyBzdGVwcyBhbmQgdGhlIFB5dGhvbiBzaWRlIGlzIGdvaW5nCi8vIHRvIHBvbGwgZm9yIGNvbXBsZXRpb24gb2YgZWFjaCBzdGVwLgovLyBUaGlzIHVzZXMgYSBQcm9taXNlIHRvIGJsb2NrIHRoZSBweXRob24gc2lkZSBvbiBjb21wbGV0aW9uIG9mIGVhY2ggc3RlcCwKLy8gdGhlbiBwYXNzZXMgdGhlIHJlc3VsdCBvZiB0aGUgcHJldmlvdXMgc3RlcCBhcyB0aGUgaW5wdXQgdG8gdGhlIG5leHQgc3RlcC4KZnVuY3Rpb24gX3VwbG9hZEZpbGVzQ29udGludWUob3V0cHV0SWQpIHsKICBjb25zdCBvdXRwdXRFbGVtZW50ID0gZG9jdW1lbnQuZ2V0RWxlbWVudEJ5SWQob3V0cHV0SWQpOwogIGNvbnN0IHN0ZXBzID0gb3V0cHV0RWxlbWVudC5zdGVwczsKCiAgY29uc3QgbmV4dCA9IHN0ZXBzLm5leHQob3V0cHV0RWxlbWVudC5sYXN0UHJvbWlzZVZhbHVlKTsKICByZXR1cm4gUHJvbWlzZS5yZXNvbHZlKG5leHQudmFsdWUucHJvbWlzZSkudGhlbigodmFsdWUpID0+IHsKICAgIC8vIENhY2hlIHRoZSBsYXN0IHByb21pc2UgdmFsdWUgdG8gbWFrZSBpdCBhdmFpbGFibGUgdG8gdGhlIG5leHQKICAgIC8vIHN0ZXAgb2YgdGhlIGdlbmVyYXRvci4KICAgIG91dHB1dEVsZW1lbnQubGFzdFByb21pc2VWYWx1ZSA9IHZhbHVlOwogICAgcmV0dXJuIG5leHQudmFsdWUucmVzcG9uc2U7CiAgfSk7Cn0KCi8qKgogKiBHZW5lcmF0b3IgZnVuY3Rpb24gd2hpY2ggaXMgY2FsbGVkIGJldHdlZW4gZWFjaCBhc3luYyBzdGVwIG9mIHRoZSB1cGxvYWQKICogcHJvY2Vzcy4KICogQHBhcmFtIHtzdHJpbmd9IGlucHV0SWQgRWxlbWVudCBJRCBvZiB0aGUgaW5wdXQgZmlsZSBwaWNrZXIgZWxlbWVudC4KICogQHBhcmFtIHtzdHJpbmd9IG91dHB1dElkIEVsZW1lbnQgSUQgb2YgdGhlIG91dHB1dCBkaXNwbGF5LgogKiBAcmV0dXJuIHshSXRlcmFibGU8IU9iamVjdD59IEl0ZXJhYmxlIG9mIG5leHQgc3RlcHMuCiAqLwpmdW5jdGlvbiogdXBsb2FkRmlsZXNTdGVwKGlucHV0SWQsIG91dHB1dElkKSB7CiAgY29uc3QgaW5wdXRFbGVtZW50ID0gZG9jdW1lbnQuZ2V0RWxlbWVudEJ5SWQoaW5wdXRJZCk7CiAgaW5wdXRFbGVtZW50LmRpc2FibGVkID0gZmFsc2U7CgogIGNvbnN0IG91dHB1dEVsZW1lbnQgPSBkb2N1bWVudC5nZXRFbGVtZW50QnlJZChvdXRwdXRJZCk7CiAgb3V0cHV0RWxlbWVudC5pbm5lckhUTUwgPSAnJzsKCiAgY29uc3QgcGlja2VkUHJvbWlzZSA9IG5ldyBQcm9taXNlKChyZXNvbHZlKSA9PiB7CiAgICBpbnB1dEVsZW1lbnQuYWRkRXZlbnRMaXN0ZW5lcignY2hhbmdlJywgKGUpID0+IHsKICAgICAgcmVzb2x2ZShlLnRhcmdldC5maWxlcyk7CiAgICB9KTsKICB9KTsKCiAgY29uc3QgY2FuY2VsID0gZG9jdW1lbnQuY3JlYXRlRWxlbWVudCgnYnV0dG9uJyk7CiAgaW5wdXRFbGVtZW50LnBhcmVudEVsZW1lbnQuYXBwZW5kQ2hpbGQoY2FuY2VsKTsKICBjYW5jZWwudGV4dENvbnRlbnQgPSAnQ2FuY2VsIHVwbG9hZCc7CiAgY29uc3QgY2FuY2VsUHJvbWlzZSA9IG5ldyBQcm9taXNlKChyZXNvbHZlKSA9PiB7CiAgICBjYW5jZWwub25jbGljayA9ICgpID0+IHsKICAgICAgcmVzb2x2ZShudWxsKTsKICAgIH07CiAgfSk7CgogIC8vIENhbmNlbCB1cGxvYWQgaWYgdXNlciBoYXNuJ3QgcGlja2VkIGFueXRoaW5nIGluIHRpbWVvdXQuCiAgY29uc3QgdGltZW91dFByb21pc2UgPSBuZXcgUHJvbWlzZSgocmVzb2x2ZSkgPT4gewogICAgc2V0VGltZW91dCgoKSA9PiB7CiAgICAgIHJlc29sdmUobnVsbCk7CiAgICB9LCBGSUxFX0NIQU5HRV9USU1FT1VUX01TKTsKICB9KTsKCiAgLy8gV2FpdCBmb3IgdGhlIHVzZXIgdG8gcGljayB0aGUgZmlsZXMuCiAgY29uc3QgZmlsZXMgPSB5aWVsZCB7CiAgICBwcm9taXNlOiBQcm9taXNlLnJhY2UoW3BpY2tlZFByb21pc2UsIHRpbWVvdXRQcm9taXNlLCBjYW5jZWxQcm9taXNlXSksCiAgICByZXNwb25zZTogewogICAgICBhY3Rpb246ICdzdGFydGluZycsCiAgICB9CiAgfTsKCiAgaWYgKCFmaWxlcykgewogICAgcmV0dXJuIHsKICAgICAgcmVzcG9uc2U6IHsKICAgICAgICBhY3Rpb246ICdjb21wbGV0ZScsCiAgICAgIH0KICAgIH07CiAgfQoKICBjYW5jZWwucmVtb3ZlKCk7CgogIC8vIERpc2FibGUgdGhlIGlucHV0IGVsZW1lbnQgc2luY2UgZnVydGhlciBwaWNrcyBhcmUgbm90IGFsbG93ZWQuCiAgaW5wdXRFbGVtZW50LmRpc2FibGVkID0gdHJ1ZTsKCiAgZm9yIChjb25zdCBmaWxlIG9mIGZpbGVzKSB7CiAgICBjb25zdCBsaSA9IGRvY3VtZW50LmNyZWF0ZUVsZW1lbnQoJ2xpJyk7CiAgICBsaS5hcHBlbmQoc3BhbihmaWxlLm5hbWUsIHtmb250V2VpZ2h0OiAnYm9sZCd9KSk7CiAgICBsaS5hcHBlbmQoc3BhbigKICAgICAgICBgKCR7ZmlsZS50eXBlIHx8ICduL2EnfSkgLSAke2ZpbGUuc2l6ZX0gYnl0ZXMsIGAgKwogICAgICAgIGBsYXN0IG1vZGlmaWVkOiAkewogICAgICAgICAgICBmaWxlLmxhc3RNb2RpZmllZERhdGUgPyBmaWxlLmxhc3RNb2RpZmllZERhdGUudG9Mb2NhbGVEYXRlU3RyaW5nKCkgOgogICAgICAgICAgICAgICAgICAgICAgICAgICAgICAgICAgICAnbi9hJ30gLSBgKSk7CiAgICBjb25zdCBwZXJjZW50ID0gc3BhbignMCUgZG9uZScpOwogICAgbGkuYXBwZW5kQ2hpbGQocGVyY2VudCk7CgogICAgb3V0cHV0RWxlbWVudC5hcHBlbmRDaGlsZChsaSk7CgogICAgY29uc3QgZmlsZURhdGFQcm9taXNlID0gbmV3IFByb21pc2UoKHJlc29sdmUpID0+IHsKICAgICAgY29uc3QgcmVhZGVyID0gbmV3IEZpbGVSZWFkZXIoKTsKICAgICAgcmVhZGVyLm9ubG9hZCA9IChlKSA9PiB7CiAgICAgICAgcmVzb2x2ZShlLnRhcmdldC5yZXN1bHQpOwogICAgICB9OwogICAgICByZWFkZXIucmVhZEFzQXJyYXlCdWZmZXIoZmlsZSk7CiAgICB9KTsKICAgIC8vIFdhaXQgZm9yIHRoZSBkYXRhIHRvIGJlIHJlYWR5LgogICAgbGV0IGZpbGVEYXRhID0geWllbGQgewogICAgICBwcm9taXNlOiBmaWxlRGF0YVByb21pc2UsCiAgICAgIHJlc3BvbnNlOiB7CiAgICAgICAgYWN0aW9uOiAnY29udGludWUnLAogICAgICB9CiAgICB9OwoKICAgIC8vIFVzZSBhIGNodW5rZWQgc2VuZGluZyB0byBhdm9pZCBtZXNzYWdlIHNpemUgbGltaXRzLiBTZWUgYi82MjExNTY2MC4KICAgIGxldCBwb3NpdGlvbiA9IDA7CiAgICB3aGlsZSAocG9zaXRpb24gPCBmaWxlRGF0YS5ieXRlTGVuZ3RoKSB7CiAgICAgIGNvbnN0IGxlbmd0aCA9IE1hdGgubWluKGZpbGVEYXRhLmJ5dGVMZW5ndGggLSBwb3NpdGlvbiwgTUFYX1BBWUxPQURfU0laRSk7CiAgICAgIGNvbnN0IGNodW5rID0gbmV3IFVpbnQ4QXJyYXkoZmlsZURhdGEsIHBvc2l0aW9uLCBsZW5ndGgpOwogICAgICBwb3NpdGlvbiArPSBsZW5ndGg7CgogICAgICBjb25zdCBiYXNlNjQgPSBidG9hKFN0cmluZy5mcm9tQ2hhckNvZGUuYXBwbHkobnVsbCwgY2h1bmspKTsKICAgICAgeWllbGQgewogICAgICAgIHJlc3BvbnNlOiB7CiAgICAgICAgICBhY3Rpb246ICdhcHBlbmQnLAogICAgICAgICAgZmlsZTogZmlsZS5uYW1lLAogICAgICAgICAgZGF0YTogYmFzZTY0LAogICAgICAgIH0sCiAgICAgIH07CiAgICAgIHBlcmNlbnQudGV4dENvbnRlbnQgPQogICAgICAgICAgYCR7TWF0aC5yb3VuZCgocG9zaXRpb24gLyBmaWxlRGF0YS5ieXRlTGVuZ3RoKSAqIDEwMCl9JSBkb25lYDsKICAgIH0KICB9CgogIC8vIEFsbCBkb25lLgogIHlpZWxkIHsKICAgIHJlc3BvbnNlOiB7CiAgICAgIGFjdGlvbjogJ2NvbXBsZXRlJywKICAgIH0KICB9Owp9CgpzY29wZS5nb29nbGUgPSBzY29wZS5nb29nbGUgfHwge307CnNjb3BlLmdvb2dsZS5jb2xhYiA9IHNjb3BlLmdvb2dsZS5jb2xhYiB8fCB7fTsKc2NvcGUuZ29vZ2xlLmNvbGFiLl9maWxlcyA9IHsKICBfdXBsb2FkRmlsZXMsCiAgX3VwbG9hZEZpbGVzQ29udGludWUsCn07Cn0pKHNlbGYpOwo=",
       "headers": [
        [
         "content-type",
         "application/javascript"
        ]
       ],
       "ok": true,
       "status": 200,
       "status_text": ""
      }
     }
    },
    "colab_type": "code",
    "id": "QL3hJ6VkwCnN",
    "outputId": "82592e04-28e8-4fc4-e946-17a4ab132bd2"
   },
   "outputs": [],
   "source": [
    "#allows us to upload files into colab\n",
    "#we'll need to upload the kaggle.json file\n",
    "#in kaggle, under accounts, click 'create new API token'\n",
    "#upload the kaggle.json file that is automatically downloaded\n",
    "#from google.colab import files\n",
    "#files.upload()"
   ]
  },
  {
   "cell_type": "code",
   "execution_count": 4,
   "metadata": {
    "colab": {
     "base_uri": "https://localhost:8080/",
     "height": 34
    },
    "colab_type": "code",
    "id": "1cJuzk8kw5TN",
    "outputId": "98b9d87d-e573-458e-8016-17b024006911"
   },
   "outputs": [],
   "source": [
    "#ensure its there\n",
    "#!ls -lha kaggle.json"
   ]
  },
  {
   "cell_type": "code",
   "execution_count": 5,
   "metadata": {
    "colab": {},
    "colab_type": "code",
    "id": "Hrzlqyr_xHcd"
   },
   "outputs": [],
   "source": [
    "# The Kaggle API client expects this file to be in ~/.kaggle,\n",
    "# so lets move it there.\n",
    "#!mkdir -p ~/.kaggle\n",
    "#!cp kaggle.json ~/.kaggle/\n",
    "\n",
    "# This permissions change avoids a warning on Kaggle tool startup.\n",
    "#!chmod 600 ~/.kaggle/kaggle.json"
   ]
  },
  {
   "cell_type": "code",
   "execution_count": 6,
   "metadata": {
    "colab": {
     "base_uri": "https://localhost:8080/",
     "height": 272
    },
    "colab_type": "code",
    "id": "WavozskmxMZe",
    "outputId": "813c7ade-2102-4593-fa95-df39ba11d1b4"
   },
   "outputs": [],
   "source": [
    "#lets now download our dataset\n",
    "#!kaggle competitions download -c tgs-salt-identification-challenge "
   ]
  },
  {
   "cell_type": "code",
   "execution_count": 7,
   "metadata": {
    "colab": {
     "base_uri": "https://localhost:8080/",
     "height": 136102
    },
    "colab_type": "code",
    "id": "Fur6k1fnxiUt",
    "outputId": "ee400fdb-7c4d-4c2a-a30e-72137f58106b"
   },
   "outputs": [],
   "source": [
    "#and we'll need those training images unzipped\n",
    "#!ls\n",
    "#!unzip train.zip"
   ]
  },
  {
   "cell_type": "code",
   "execution_count": 8,
   "metadata": {
    "colab": {},
    "colab_type": "code",
    "id": "uMHZUr4rvpA2"
   },
   "outputs": [],
   "source": [
    "#lets create a class to represent this data, to make it easier to access\n",
    "\n",
    "class TGSSaltDataset(data.Dataset):\n",
    "    #init with the location of the dataset, and the list of file \n",
    "    def __init__(self, root_path, file_list):\n",
    "        self.root_path = root_path\n",
    "        self.file_list = file_list\n",
    "    #get method - how long is the list\n",
    "    def __len__(self):\n",
    "        return len(self.file_list)\n",
    "    #get method - return the seismic image + label for a given index\n",
    "    def __getitem__(self, index):\n",
    "        #if the index is out of bounds, get a random image\n",
    "        if index not in range(0, len(self.file_list)):\n",
    "            return self.__getitem__(np.random.randint(0, self.__len__()))\n",
    "        #define a file ID using the index parameter\n",
    "        file_id = self.file_list[index]\n",
    "        #image folder + path\n",
    "        image_folder = os.path.join(self.root_path, \"images\")\n",
    "        image_path = os.path.join(image_folder, file_id + \".png\")\n",
    "        #label folder + path\n",
    "        mask_folder = os.path.join(self.root_path, \"masks\")\n",
    "        mask_path = os.path.join(mask_folder, file_id + \".png\")\n",
    "        #read it, store it in memory as a byte array\n",
    "        image = np.array(imageio.imread(image_path), dtype=np.uint8)\n",
    "        mask = np.array(imageio.imread(mask_path), dtype=np.uint8)\n",
    "        #return image + label\n",
    "        return image, mask"
   ]
  },
  {
   "cell_type": "code",
   "execution_count": 9,
   "metadata": {
    "colab": {},
    "colab_type": "code",
    "id": "pNnfAi_7zehe"
   },
   "outputs": [],
   "source": [
    "location = 'home'\n",
    "\n",
    "if(location == 'home'):\n",
    "    PATH = '/home/katou/Python/Data/Kaggle Salt Id/'\n",
    "elif(location == 'work'):\n",
    "    PATH = 'C:\\\\Users\\\\SCatheline\\\\Documents\\\\GitHub repo\\\\FirstTest\\\\Kaggle_Challenge_LIVE-master\\\\data\\\\'\n",
    "else:\n",
    "    print('Unavailable location.')\n",
    "#train image + mask data\n",
    "train_mask = pd.read_csv(PATH+'train.csv')\n",
    "#depth data\n",
    "depth = pd.read_csv(PATH+'depths.csv')\n",
    "#training path\n",
    "train_path = PATH+'train'\n",
    "\n",
    "#list of files\n",
    "file_list = list(train_mask['id'].values)\n",
    "#define our dataset using our class\n",
    "dataset = TGSSaltDataset(train_path, file_list)"
   ]
  },
  {
   "cell_type": "code",
   "execution_count": 10,
   "metadata": {
    "colab": {},
    "colab_type": "code",
    "id": "AfD9rM1-zvlW"
   },
   "outputs": [],
   "source": [
    "#function to visualize these images\n",
    "def plot2x2Array(image, mask):\n",
    "    #invoke matplotlib!\n",
    "    f, axarr = plt.subplots(1,2)\n",
    "    axarr[0].imshow(image)\n",
    "    axarr[1].imshow(mask)\n",
    "    axarr[0].grid()\n",
    "    axarr[1].grid()\n",
    "    axarr[0].set_title('Image')\n",
    "    axarr[1].set_title('Mask')"
   ]
  },
  {
   "cell_type": "code",
   "execution_count": 11,
   "metadata": {
    "colab": {
     "base_uri": "https://localhost:8080/",
     "height": 1007
    },
    "colab_type": "code",
    "id": "NKiZ4Vetzxxm",
    "outputId": "6f24ea53-5114-4b49-d902-b0f295931a7f"
   },
   "outputs": [
    {
     "data": {
      "image/png": "[encoded data removed]",
      "text/plain": [
       "<Figure size 432x288 with 2 Axes>"
      ]
     },
     "metadata": {},
     "output_type": "display_data"
    },
    {
     "data": {
      "image/png": "[encoded data removed]",
      "text/plain": [
       "<Figure size 432x288 with 2 Axes>"
      ]
     },
     "metadata": {},
     "output_type": "display_data"
    },
    {
     "data": {
      "image/png": "[encoded data removed]",
      "text/plain": [
       "<Figure size 432x288 with 2 Axes>"
      ]
     },
     "metadata": {},
     "output_type": "display_data"
    },
    {
     "data": {
      "image/png": "[encoded data removed]",
      "text/plain": [
       "<Figure size 432x288 with 2 Axes>"
      ]
     },
     "metadata": {},
     "output_type": "display_data"
    },
    {
     "data": {
      "image/png": "[encoded data removed]",
      "text/plain": [
       "<Figure size 432x288 with 2 Axes>"
      ]
     },
     "metadata": {},
     "output_type": "display_data"
    }
   ],
   "source": [
    "for i in range(5):\n",
    "    image, mask = dataset[np.random.randint(0, len(dataset))]\n",
    "    plot2x2Array(image, mask)"
   ]
  },
  {
   "cell_type": "code",
   "execution_count": 12,
   "metadata": {
    "colab": {
     "base_uri": "https://localhost:8080/",
     "height": 406
    },
    "colab_type": "code",
    "id": "zrvKS0sB2WpW",
    "outputId": "8714e1a1-b743-4ba8-ba17-5fe765244da5"
   },
   "outputs": [
    {
     "data": {
      "text/plain": [
       "Text(0.5,1,'Depth distribution')"
      ]
     },
     "execution_count": 12,
     "metadata": {},
     "output_type": "execute_result"
    },
    {
     "data": {
      "image/png": "[encoded data removed]",
      "text/plain": [
       "<Figure size 432x432 with 1 Axes>"
      ]
     },
     "metadata": {},
     "output_type": "display_data"
    }
   ],
   "source": [
    "plt.figure(figsize = (6, 6))\n",
    "plt.hist(depth['z'], bins = 50)\n",
    "plt.title('Depth distribution')"
   ]
  },
  {
   "cell_type": "markdown",
   "metadata": {
    "colab_type": "text",
    "id": "rLkdbt9Z0Y-B"
   },
   "source": [
    "Run-length encoding (RLE) is a very simple form of lossless data compression in which runs of data (that is, sequences in which the same data value occurs in many consecutive data elements) are stored as a single data value and count, rather than as the original run. \n",
    "\n",
    "![alt text](https://sites.google.com/a/ruknuddin.com/inqilab-patel-magazine/_/rsrc/1525765922681/term-of-the-day/runlengthencoding/RunLengthEncoding.PNG)\n",
    "\n"
   ]
  },
  {
   "cell_type": "code",
   "execution_count": 13,
   "metadata": {
    "colab": {},
    "colab_type": "code",
    "id": "J9piDHb420c-"
   },
   "outputs": [],
   "source": [
    "#convert to image\n",
    "def rleToMask(rleString,height,width):\n",
    "    #width heigh\n",
    "    rows,cols = height,width\n",
    "    try:\n",
    "        #get numbers\n",
    "        rleNumbers = [int(numstring) for numstring in rleString.split(' ')]\n",
    "        #get pairs\n",
    "        rlePairs = np.array(rleNumbers).reshape(-1,2)\n",
    "        #create an image\n",
    "        img = np.zeros(rows*cols,dtype=np.uint8)\n",
    "        #for each pair\n",
    "        for index,length in rlePairs:\n",
    "            #get the pixel value \n",
    "            index -= 1\n",
    "            img[index:index+length] = 255\n",
    "        \n",
    "        \n",
    "        #reshape\n",
    "        img = img.reshape(cols,rows)\n",
    "        img = img.T\n",
    "    \n",
    "    #else return empty image\n",
    "    except:\n",
    "        img = np.zeros((cols,rows))\n",
    "    \n",
    "    return img"
   ]
  },
  {
   "cell_type": "code",
   "execution_count": 14,
   "metadata": {
    "colab": {},
    "colab_type": "code",
    "id": "LtpKsYeN23ie"
   },
   "outputs": [],
   "source": [
    "#for measuring how salty an image is\n",
    "def salt_proportion(imgArray):\n",
    "    try: \n",
    "        unique, counts = np.unique(imgArray, return_counts=True)\n",
    "        ## The total number of pixels is 101*101 = 10,201\n",
    "        return counts[1]/10201.\n",
    "    \n",
    "    except: \n",
    "        return 0.0"
   ]
  },
  {
   "cell_type": "code",
   "execution_count": 15,
   "metadata": {
    "colab": {},
    "colab_type": "code",
    "id": "x0LPqHZF26vm"
   },
   "outputs": [],
   "source": [
    "train_mask['mask'] = train_mask['rle_mask'].apply(lambda x: rleToMask(x, 101,101))\n",
    "train_mask['salt_proportion'] = train_mask['mask'].apply(lambda x: salt_proportion(x))"
   ]
  },
  {
   "cell_type": "code",
   "execution_count": 16,
   "metadata": {
    "colab": {
     "base_uri": "https://localhost:8080/",
     "height": 204
    },
    "colab_type": "code",
    "id": "aNGJ0Cwf3ET-",
    "outputId": "2ca49c32-f957-4be3-8c27-8edf2196b9b6"
   },
   "outputs": [
    {
     "data": {
      "text/html": [
       "<div>\n",
       "<style scoped>\n",
       "    .dataframe tbody tr th:only-of-type {\n",
       "        vertical-align: middle;\n",
       "    }\n",
       "\n",
       "    .dataframe tbody tr th {\n",
       "        vertical-align: top;\n",
       "    }\n",
       "\n",
       "    .dataframe thead th {\n",
       "        text-align: right;\n",
       "    }\n",
       "</style>\n",
       "<table border=\"1\" class=\"dataframe\">\n",
       "  <thead>\n",
       "    <tr style=\"text-align: right;\">\n",
       "      <th></th>\n",
       "      <th>id</th>\n",
       "      <th>rle_mask</th>\n",
       "      <th>mask</th>\n",
       "      <th>salt_proportion</th>\n",
       "      <th>z</th>\n",
       "    </tr>\n",
       "  </thead>\n",
       "  <tbody>\n",
       "    <tr>\n",
       "      <th>0</th>\n",
       "      <td>575d24d81d</td>\n",
       "      <td>NaN</td>\n",
       "      <td>[[0.0, 0.0, 0.0, 0.0, 0.0, 0.0, 0.0, 0.0, 0.0,...</td>\n",
       "      <td>0.000000</td>\n",
       "      <td>843</td>\n",
       "    </tr>\n",
       "    <tr>\n",
       "      <th>1</th>\n",
       "      <td>a266a2a9df</td>\n",
       "      <td>5051 5151</td>\n",
       "      <td>[[0, 0, 0, 0, 0, 0, 0, 0, 0, 0, 0, 0, 0, 0, 0,...</td>\n",
       "      <td>0.504950</td>\n",
       "      <td>794</td>\n",
       "    </tr>\n",
       "    <tr>\n",
       "      <th>2</th>\n",
       "      <td>75efad62c1</td>\n",
       "      <td>9 93 109 94 210 94 310 95 411 95 511 96 612 96...</td>\n",
       "      <td>[[0, 0, 0, 0, 0, 0, 0, 0, 0, 0, 0, 0, 0, 0, 0,...</td>\n",
       "      <td>0.993334</td>\n",
       "      <td>468</td>\n",
       "    </tr>\n",
       "    <tr>\n",
       "      <th>3</th>\n",
       "      <td>34e51dba6a</td>\n",
       "      <td>48 54 149 54 251 53 353 52 455 51 557 50 659 4...</td>\n",
       "      <td>[[0, 0, 0, 0, 0, 0, 0, 0, 0, 0, 0, 0, 0, 0, 0,...</td>\n",
       "      <td>0.149201</td>\n",
       "      <td>727</td>\n",
       "    </tr>\n",
       "    <tr>\n",
       "      <th>4</th>\n",
       "      <td>4875705fb0</td>\n",
       "      <td>1111 1 1212 1 1313 1 1414 1 1514 2 1615 2 1716...</td>\n",
       "      <td>[[0, 0, 0, 0, 0, 0, 0, 0, 0, 0, 0, 0, 0, 0, 0,...</td>\n",
       "      <td>0.042839</td>\n",
       "      <td>797</td>\n",
       "    </tr>\n",
       "  </tbody>\n",
       "</table>\n",
       "</div>"
      ],
      "text/plain": [
       "           id                                           rle_mask  \\\n",
       "0  575d24d81d                                                NaN   \n",
       "1  a266a2a9df                                          5051 5151   \n",
       "2  75efad62c1  9 93 109 94 210 94 310 95 411 95 511 96 612 96...   \n",
       "3  34e51dba6a  48 54 149 54 251 53 353 52 455 51 557 50 659 4...   \n",
       "4  4875705fb0  1111 1 1212 1 1313 1 1414 1 1514 2 1615 2 1716...   \n",
       "\n",
       "                                                mask  salt_proportion    z  \n",
       "0  [[0.0, 0.0, 0.0, 0.0, 0.0, 0.0, 0.0, 0.0, 0.0,...         0.000000  843  \n",
       "1  [[0, 0, 0, 0, 0, 0, 0, 0, 0, 0, 0, 0, 0, 0, 0,...         0.504950  794  \n",
       "2  [[0, 0, 0, 0, 0, 0, 0, 0, 0, 0, 0, 0, 0, 0, 0,...         0.993334  468  \n",
       "3  [[0, 0, 0, 0, 0, 0, 0, 0, 0, 0, 0, 0, 0, 0, 0,...         0.149201  727  \n",
       "4  [[0, 0, 0, 0, 0, 0, 0, 0, 0, 0, 0, 0, 0, 0, 0,...         0.042839  797  "
      ]
     },
     "execution_count": 16,
     "metadata": {},
     "output_type": "execute_result"
    }
   ],
   "source": [
    "merged = train_mask.merge(depth, how = 'left')\n",
    "merged.head()"
   ]
  },
  {
   "cell_type": "code",
   "execution_count": 17,
   "metadata": {
    "colab": {
     "base_uri": "https://localhost:8080/",
     "height": 406
    },
    "colab_type": "code",
    "id": "dXDXssow3Jh2",
    "outputId": "a1b64e1b-9208-43c5-a1e7-98e0b28a8a3b"
   },
   "outputs": [
    {
     "data": {
      "text/plain": [
       "Text(0.5,1,'Proportion of salt v. depth')"
      ]
     },
     "execution_count": 17,
     "metadata": {},
     "output_type": "execute_result"
    },
    {
     "data": {
      "image/png": "[encoded data removed]",
      "text/plain": [
       "<Figure size 864x432 with 1 Axes>"
      ]
     },
     "metadata": {},
     "output_type": "display_data"
    }
   ],
   "source": [
    "plt.figure(figsize = (12, 6))\n",
    "plt.scatter(merged['salt_proportion'], merged['z'])\n",
    "plt.title('Proportion of salt v. depth')"
   ]
  },
  {
   "cell_type": "code",
   "execution_count": 18,
   "metadata": {
    "colab": {
     "base_uri": "https://localhost:8080/",
     "height": 34
    },
    "colab_type": "code",
    "id": "-jZ8PBlF3L_u",
    "outputId": "14192487-54e2-4cd5-bfdf-eb87c8fd82ac"
   },
   "outputs": [
    {
     "name": "stdout",
     "output_type": "stream",
     "text": [
      "Correlation:  0.1036158036555743\n"
     ]
    }
   ],
   "source": [
    "print(\"Correlation: \", np.corrcoef(merged['salt_proportion'], merged['z'])[0, 1])\n"
   ]
  },
  {
   "cell_type": "markdown",
   "metadata": {
    "colab_type": "text",
    "id": "P-kAY13X73uE"
   },
   "source": [
    "#### U-Nets\n",
    "\n",
    "- This looks like a computer vision problem!\n",
    "- What outperforms everything else when it comes to computer vision most of the time? (hint deep learning)\n",
    "- Specifically, deep convolutional neural networks.\n",
    "- AlexNet\n",
    "- VGG-16, VGG-19;\n",
    "- Inception Nets;\n",
    "- ResNet;\n",
    "- Squeeze Net \n",
    "\n",
    "![alt text](https://pics.spark-in.me/upload/388373c74ab710cc4c429538d4779a93.png)\n",
    "![alt text](https://pics.spark-in.me/upload/8b468c6dd60a499e6cdde0af803cb96f.png)\n",
    "\n",
    "#### Why not use one of these, why use a U-Net?\n",
    "\n",
    "- U-NET is considered one of standard architectures for image classification tasks, when we need not only to segment the whole image by its class, but also to segment areas of image by class, i.e. produce a mask that will separate image into several classes.\n",
    "-its architecture is input image size agnostic since it does not contain fully connected layers \n",
    "- Because of many layers takes significant amount of time to train;\n",
    "- U-Net is designed like an auto-encoder. \n",
    "- It has an encoding path (“contracting”) paired with a decoding path (“expanding”) which gives it the “U” shape.  \n",
    "- However, in contrast to the autoencoder, U-Net predicts a pixelwise segmentation map of the input image rather than classifying the input image as a whole. \n",
    "- For each pixel in the original image, it asks the question: “To which class does this pixel belong?\n",
    "- This flexibility allows U-Net to predict different parts of the seismic image (salt, not salt) simultaneously.\n",
    "- U-Net passes the feature maps from each level of the contracting path over to the analogous level in the expanding path.  \n",
    "- These are similar to residual connections in a ResNet type model, and allow the classifier to consider features at various scales and complexities to make its decision.\n",
    "\n",
    "#### What does a U-Net look like?\n",
    "\n",
    "![alt text](https://cdn-images-1.medium.com/max/800/1*dKPBgCdJx6zj3MpED3lcNA.png)\n",
    "![alt text](https://pics.spark-in.me/upload/cb8197bb7e57317eda88f921dfc1c413.png)\n",
    "\n",
    "its high to low res, then low res to high res\n",
    "\n",
    "- The first part (encoder) is where we apply convolutional blocks followed by a maxpool downsampling to encode the input image into feature representations at multiple different levels.\n",
    "\n",
    "convolutions→ downsampling.\n",
    "\n",
    "Example\n",
    "\n",
    "```\n",
    "# a sample down block\n",
    "def make_conv_bn_relu(in_channels, out_channels, kernel_size=3, stride=1, padding=1):\n",
    "    return [\n",
    "        nn.Conv2d(in_channels, out_channels, kernel_size=kernel_size,  stride=stride, padding=padding, bias=False),\n",
    "        nn.BatchNorm2d(out_channels),\n",
    "        nn.ReLU(inplace=True)\n",
    "    ]\n",
    "self.down1 = nn.Sequential(\n",
    "    *make_conv_bn_relu(in_channels, 64, kernel_size=3, stride=1, padding=1 ),\n",
    "    *make_conv_bn_relu(64, 64, kernel_size=3, stride=1, padding=1 ),\n",
    ")\n",
    "\n",
    "# convolutions followed by a maxpool\n",
    "down1 = self.down1(x)\n",
    "out1   = F.max_pool2d(down1, kernel_size=2, stride=2)\n",
    "\n",
    "```\n",
    "\n",
    "- The  second part (decoder) of the network consists of upsample and concatenation followed by regular convolution operations\n",
    "\n",
    "upsampling → concatenation →convolutions.\n",
    "\n",
    "```\n",
    "# a sample up block\n",
    "def make_conv_bn_relu(in_channels, out_channels, kernel_size=3, stride=1, padding=1):\n",
    "    return [\n",
    "        nn.Conv2d(in_channels, out_channels, kernel_size=kernel_size,  stride=stride, padding=padding, bias=False),\n",
    "        nn.BatchNorm2d(out_channels),\n",
    "        nn.ReLU(inplace=True)\n",
    "    ]\n",
    "self.up4 = nn.Sequential(\n",
    "    *make_conv_bn_relu(128,64, kernel_size=3, stride=1, padding=1 ),\n",
    "    *make_conv_bn_relu(64,64, kernel_size=3, stride=1, padding=1 )\n",
    ")\n",
    "self.final_conv = nn.Conv2d(32, num_classes, kernel_size=1, stride=1, padding=0 )\n",
    "\n",
    "# upsample out_last, concatenate with down1 and apply conv operations\n",
    "out   = F.upsample(out_last, scale_factor=2, mode='bilinear')  \n",
    "out   = torch.cat([down1, out], 1)\n",
    "out   = self.up4(out)\n",
    "\n",
    "# final 1x1 conv for predictions\n",
    "final_out = self.final_conv(out)\n",
    "```\n",
    "\n",
    "\n"
   ]
  },
  {
   "cell_type": "markdown",
   "metadata": {},
   "source": [
    "# CNN"
   ]
  },
  {
   "cell_type": "code",
   "execution_count": null,
   "metadata": {},
   "outputs": [],
   "source": [
    "class ConvNet(nn.Module):\n",
    "    def __init__(self, layers, c):\n",
    "        super().__init__()\n",
    "        self.layers = nn.ModuleList([\n",
    "            nn.Conv2d(layers[i], layers[i + 1], kernel_size=3, stride=2)\n",
    "            for i in range(len(layers) - 1)])\n",
    "        self.pool = nn.AdaptiveMaxPool2d(1)\n",
    "        self.out = nn.Linear(layers[-1], c)\n",
    "        \n",
    "    def forward(self, x):\n",
    "        for l in self.layers: x = F.relu(l(x))\n",
    "        x = self.pool(x)\n",
    "        x = x.view(x.size(0), -1)\n",
    "        return F.log_softmax(self.out(x), dim=-1)\n",
    "    \n",
    "#learn = ConvLearner.from_model_data(ConvNet([3, 20, 40, 80], 10), data)    "
   ]
  },
  {
   "cell_type": "markdown",
   "metadata": {},
   "source": [
    "# Batchnorm"
   ]
  },
  {
   "cell_type": "code",
   "execution_count": 19,
   "metadata": {
    "colab": {
     "base_uri": "https://localhost:8080/",
     "height": 34
    },
    "colab_type": "code",
    "id": "YC3C7MPmDWoH",
    "outputId": "bc04ef92-8c24-4781-9879-f851600fb6d0"
   },
   "outputs": [
    {
     "name": "stderr",
     "output_type": "stream",
     "text": [
      "Using TensorFlow backend.\n"
     ]
    }
   ],
   "source": [
    "class BnLayer(nn.Module):\n",
    "    def __init__(self, ni, nf, stride=2, kernel_size=3):\n",
    "        super().__init__()\n",
    "        self.conv = nn.Conv2d(ni, nf, kernel_size=kernel_size, stride=stride,\n",
    "                              bias=False, padding=1)   #ni= in channels, nf = out channels\n",
    "        self.a = nn.Parameter(torch.zeros(nf,1,1))\n",
    "        self.m = nn.Parameter(torch.ones(nf,1,1))\n",
    "        \n",
    "    def forward(self, x):\n",
    "        x = F.relu(self.conv(x))\n",
    "        x_chan = x.transpose(0,1).contiguous().view(x.size(1), -1)\n",
    "        if self.training:\n",
    "            self.means = x_chan.mean(1)[:,None,None]\n",
    "            self.stds  = x_chan.std (1)[:,None,None]\n",
    "        return (x-self.means) / self.stds *self.m + self.a\n",
    "\n",
    "class UpLayer(nn.Module):\n",
    "    def __init__(self, ni, nf, stride=2, kernel_size=3):\n",
    "        super().__init__()\n",
    "        self.conv = nn.ConvTranspose2d(ni, nf, kernel_size=kernel_size, stride=stride,\n",
    "                              bias=False, padding=1)   #ni= in channels, nf = out channels\n",
    "        self.a = nn.Parameter(torch.zeros(nf,1,1))\n",
    "        self.m = nn.Parameter(torch.ones(nf,1,1))\n",
    "        \n",
    "    def forward(self, x):\n",
    "        x = F.relu(self.conv(x))\n",
    "        x_chan = x.transpose(0,1).contiguous().view(x.size(1), -1)\n",
    "        if self.training:\n",
    "            self.means = x_chan.mean(1)[:,None,None]\n",
    "            self.stds  = x_chan.std (1)[:,None,None]\n",
    "        return (x-self.means) / self.stds *self.m + self.a\n",
    "\n",
    "class ConvBnNet(nn.Module):\n",
    "    def __init__(self, layers, c):\n",
    "        super().__init__()\n",
    "        self.conv1 = nn.Conv2d(3, 10, kernel_size=5, stride=1, padding=2)\n",
    "        self.layers = nn.ModuleList([BnLayer(layers[i], layers[i + 1])\n",
    "            for i in range(len(layers) - 1)])\n",
    "        self.out = nn.Linear(layers[-1], c)\n",
    "        \n",
    "    def forward(self, x):\n",
    "        x = self.conv1(x)\n",
    "        for l in self.layers: x = l(x)\n",
    "        x = F.adaptive_max_pool2d(x, 1)\n",
    "        x = x.view(x.size(0), -1)\n",
    "        return F.log_softmax(self.out(x), dim=-1)    \n",
    "\n",
    "#learn = ConvLearner.from_model_data(ConvBnNet([10, 20, 40, 80, 160], 10), data)    \n",
    "    \n",
    "class ConvBnNet2(nn.Module):\n",
    "    def __init__(self, layers, c):\n",
    "        super().__init__()\n",
    "        self.conv1 = nn.Conv2d(3, 10, kernel_size=5, stride=1, padding=2)\n",
    "        self.layers = nn.ModuleList([BnLayer(layers[i], layers[i+1])\n",
    "            for i in range(len(layers) - 1)])\n",
    "        self.layers2 = nn.ModuleList([BnLayer(layers[i+1], layers[i + 1], 1)\n",
    "            for i in range(len(layers) - 1)])\n",
    "        self.out = nn.Linear(layers[-1], c)\n",
    "        \n",
    "    def forward(self, x):\n",
    "        x = self.conv1(x)\n",
    "        for l,l2 in zip(self.layers, self.layers2):\n",
    "            x = l(x)\n",
    "            x = l2(x)\n",
    "        x = F.adaptive_max_pool2d(x, 1)\n",
    "        x = x.view(x.size(0), -1)\n",
    "        return F.log_softmax(self.out(x), dim=-1)  \n",
    "    \n",
    "#learn = ConvLearner.from_model_data(ConvBnNet2([10, 20, 40, 80, 160], 10), data)   \n",
    "\n",
    "class UNet(nn.Module):\n",
    "    def __init__(self, layers):\n",
    "        super().__init__()\n",
    "        #self.conv1 = nn.Conv2d(3, layers[0], kernel_size=3, stride=1, padding=2)\n",
    "        self.num_neurons = layers[1]\n",
    "        \n",
    "        self.layers = nn.ModuleList([BnLayer(layers[i], layers[i+1])\n",
    "            for i in range(len(layers) - 1)])\n",
    "        self.layers2 = nn.ModuleList([BnLayer(layers[i+1], layers[i + 1], 1)\n",
    "            for i in range(len(layers) - 1)])\n",
    "\n",
    "        layers2 = list(reversed(layers))\n",
    "        \n",
    "        self.layers3 = nn.ModuleList([nn.ConvTranspose2d(layers2[i], layers2[i+1],(2,2), stride = (2,2))\n",
    "            for i in range(len(layers2) - 2)])    \n",
    "        self.layers4 = nn.ModuleList([BnLayer(layers2[i+1], layers2[i+1], 1)\n",
    "            for i in range(len(layers) - 2)])\n",
    "        self.layers5 = nn.ModuleList([BnLayer(layers2[i+1], layers2[i+1], 1)\n",
    "            for i in range(len(layers) - 2)])\n",
    "        #self.out = nn.Linear(layers[-1], c)\n",
    "        \n",
    "    def forward(self, x):\n",
    "        #x = self.conv1(x)\n",
    "        ll = []\n",
    "        #Down Pass\n",
    "        for l,l2 in zip(self.layers, self.layers2):\n",
    "            x = l(x)\n",
    "            x = l2(x)\n",
    "            ll.append(x)\n",
    "            x = nn.MaxPool2d(3, stride=2)(x)\n",
    "            x = nn.Dropout2d(p=0.5)(x)\n",
    "        \n",
    "        #Up Pass\n",
    "        for l,l2,l3 in zip(self.layers3, self.layers4, self.layers5):\n",
    "            #upsampling\n",
    "            x = l(x)\n",
    "            #concatenate\n",
    "            x = torch.cat([x, ll.pop()], dim=-1)\n",
    "            x = nn.Dropout2d(p=0.5)(x)\n",
    "            #conv\n",
    "            x = l2(x)\n",
    "            x = l3(x)\n",
    "            \n",
    "        x =  F.sigmoid(nn.Conv2d(num_neurons, 1, kernel_size=(1,1), stride=1, bias=False, padding=0))\n",
    "        return x  \n",
    "    \n",
    "#learn = ConvLearner.from_model_data(UNet([3,num_neurons, num_neurons*2, num_neurons*4, num_neurons*8, num_neurons*16], 10), data)  "
   ]
  },
  {
   "cell_type": "markdown",
   "metadata": {},
   "source": [
    "# ResNET"
   ]
  },
  {
   "cell_type": "code",
   "execution_count": null,
   "metadata": {},
   "outputs": [],
   "source": [
    "class ResnetLayer(BnLayer):\n",
    "    def forward(self, x): return x + super().forward(x)\n",
    "    \n",
    "class Resnet(nn.Module):\n",
    "    def __init__(self, layers, c):\n",
    "        super().__init__()\n",
    "        self.conv1 = nn.Conv2d(3, 10, kernel_size=5, stride=1, padding=2)\n",
    "        self.layers = nn.ModuleList([BnLayer(layers[i], layers[i+1])\n",
    "            for i in range(len(layers) - 1)])\n",
    "        self.layers2 = nn.ModuleList([ResnetLayer(layers[i+1], layers[i + 1], 1)\n",
    "            for i in range(len(layers) - 1)])\n",
    "        self.layers3 = nn.ModuleList([ResnetLayer(layers[i+1], layers[i + 1], 1)\n",
    "            for i in range(len(layers) - 1)])\n",
    "        self.out = nn.Linear(layers[-1], c)\n",
    "        \n",
    "    def forward(self, x):\n",
    "        x = self.conv1(x)\n",
    "        for l,l2,l3 in zip(self.layers, self.layers2, self.layers3):\n",
    "            x = l3(l2(l(x)))\n",
    "        x = F.adaptive_max_pool2d(x, 1)\n",
    "        x = x.view(x.size(0), -1)\n",
    "        return F.log_softmax(self.out(x), dim=-1)\n",
    "    \n",
    "#learn = ConvLearner.from_model_data(Resnet([10, 20, 40, 80, 160], 10), data)    "
   ]
  },
  {
   "cell_type": "markdown",
   "metadata": {},
   "source": [
    "# ResNet 2"
   ]
  },
  {
   "cell_type": "code",
   "execution_count": null,
   "metadata": {},
   "outputs": [],
   "source": [
    "class Resnet2(nn.Module):\n",
    "    def __init__(self, layers, c, p=0.5):\n",
    "        super().__init__()\n",
    "        self.conv1 = BnLayer(3, 16, stride=1, kernel_size=7)\n",
    "        self.layers = nn.ModuleList([BnLayer(layers[i], layers[i+1])\n",
    "            for i in range(len(layers) - 1)])\n",
    "        self.layers2 = nn.ModuleList([ResnetLayer(layers[i+1], layers[i + 1], 1)\n",
    "            for i in range(len(layers) - 1)])\n",
    "        self.layers3 = nn.ModuleList([ResnetLayer(layers[i+1], layers[i + 1], 1)\n",
    "            for i in range(len(layers) - 1)])\n",
    "        self.out = nn.Linear(layers[-1], c)\n",
    "        self.drop = nn.Dropout(p)\n",
    "        \n",
    "    def forward(self, x):\n",
    "        x = self.conv1(x)\n",
    "        for l,l2,l3 in zip(self.layers, self.layers2, self.layers3):\n",
    "            x = l3(l2(l(x)))\n",
    "        x = F.adaptive_max_pool2d(x, 1)\n",
    "        x = x.view(x.size(0), -1)\n",
    "        x = self.drop(x)\n",
    "        return F.log_softmax(self.out(x), dim=-1)"
   ]
  },
  {
   "cell_type": "code",
   "execution_count": null,
   "metadata": {},
   "outputs": [],
   "source": []
  },
  {
   "cell_type": "code",
   "execution_count": 20,
   "metadata": {
    "colab": {},
    "colab_type": "code",
    "id": "i5HPnK47DdaP"
   },
   "outputs": [],
   "source": [
    "im_width = 128\n",
    "im_height = 128\n",
    "border = 5\n",
    "im_chan = 2 # Number of channels: first is original and second cumsum(axis=0)\n",
    "n_features = 1 # Number of extra features, like depth\n",
    "#path_train = '../input/train/'\n",
    "#path_test = '../input/test/'"
   ]
  },
  {
   "cell_type": "code",
   "execution_count": 21,
   "metadata": {
    "colab": {
     "base_uri": "https://localhost:8080/",
     "height": 1445
    },
    "colab_type": "code",
    "id": "kusRnaQF6Sj3",
    "outputId": "4b7f389a-ea7b-466d-9482-49e7030b9cb6"
   },
   "outputs": [
    {
     "name": "stdout",
     "output_type": "stream",
     "text": [
      "WARNING:tensorflow:From /home/katou/anaconda3/envs/GPU/lib/python3.6/site-packages/keras/backend/tensorflow_backend.py:1349: calling reduce_mean (from tensorflow.python.ops.math_ops) with keep_dims is deprecated and will be removed in a future version.\n",
      "Instructions for updating:\n",
      "keep_dims is deprecated, use keepdims instead\n",
      "__________________________________________________________________________________________________\n",
      "Layer (type)                    Output Shape         Param #     Connected to                     \n",
      "==================================================================================================\n",
      "img (InputLayer)                (None, 128, 128, 2)  0                                            \n",
      "__________________________________________________________________________________________________\n",
      "conv2d_1 (Conv2D)               (None, 128, 128, 16) 304         img[0][0]                        \n",
      "__________________________________________________________________________________________________\n",
      "conv2d_2 (Conv2D)               (None, 128, 128, 16) 2320        conv2d_1[0][0]                   \n",
      "__________________________________________________________________________________________________\n",
      "max_pooling2d_1 (MaxPooling2D)  (None, 64, 64, 16)   0           conv2d_2[0][0]                   \n",
      "__________________________________________________________________________________________________\n",
      "dropout_1 (Dropout)             (None, 64, 64, 16)   0           max_pooling2d_1[0][0]            \n",
      "__________________________________________________________________________________________________\n",
      "conv2d_3 (Conv2D)               (None, 64, 64, 32)   4640        dropout_1[0][0]                  \n",
      "__________________________________________________________________________________________________\n",
      "conv2d_4 (Conv2D)               (None, 64, 64, 32)   9248        conv2d_3[0][0]                   \n",
      "__________________________________________________________________________________________________\n",
      "max_pooling2d_2 (MaxPooling2D)  (None, 32, 32, 32)   0           conv2d_4[0][0]                   \n",
      "__________________________________________________________________________________________________\n",
      "dropout_2 (Dropout)             (None, 32, 32, 32)   0           max_pooling2d_2[0][0]            \n",
      "__________________________________________________________________________________________________\n",
      "conv2d_5 (Conv2D)               (None, 32, 32, 64)   18496       dropout_2[0][0]                  \n",
      "__________________________________________________________________________________________________\n",
      "conv2d_6 (Conv2D)               (None, 32, 32, 64)   36928       conv2d_5[0][0]                   \n",
      "__________________________________________________________________________________________________\n",
      "max_pooling2d_3 (MaxPooling2D)  (None, 16, 16, 64)   0           conv2d_6[0][0]                   \n",
      "__________________________________________________________________________________________________\n",
      "dropout_3 (Dropout)             (None, 16, 16, 64)   0           max_pooling2d_3[0][0]            \n",
      "__________________________________________________________________________________________________\n",
      "conv2d_7 (Conv2D)               (None, 16, 16, 128)  73856       dropout_3[0][0]                  \n",
      "__________________________________________________________________________________________________\n",
      "conv2d_8 (Conv2D)               (None, 16, 16, 128)  147584      conv2d_7[0][0]                   \n",
      "__________________________________________________________________________________________________\n",
      "feat (InputLayer)               (None, 1)            0                                            \n",
      "__________________________________________________________________________________________________\n",
      "max_pooling2d_4 (MaxPooling2D)  (None, 8, 8, 128)    0           conv2d_8[0][0]                   \n",
      "__________________________________________________________________________________________________\n",
      "repeat_vector_1 (RepeatVector)  (None, 64, 1)        0           feat[0][0]                       \n",
      "__________________________________________________________________________________________________\n",
      "dropout_4 (Dropout)             (None, 8, 8, 128)    0           max_pooling2d_4[0][0]            \n",
      "__________________________________________________________________________________________________\n",
      "reshape_1 (Reshape)             (None, 8, 8, 1)      0           repeat_vector_1[0][0]            \n",
      "__________________________________________________________________________________________________\n",
      "concatenate_1 (Concatenate)     (None, 8, 8, 129)    0           dropout_4[0][0]                  \n",
      "                                                                 reshape_1[0][0]                  \n",
      "__________________________________________________________________________________________________\n",
      "conv2d_9 (Conv2D)               (None, 8, 8, 256)    297472      concatenate_1[0][0]              \n",
      "__________________________________________________________________________________________________\n",
      "conv2d_10 (Conv2D)              (None, 8, 8, 256)    590080      conv2d_9[0][0]                   \n",
      "__________________________________________________________________________________________________\n",
      "conv2d_transpose_1 (Conv2DTrans (None, 16, 16, 128)  131200      conv2d_10[0][0]                  \n",
      "__________________________________________________________________________________________________\n",
      "concatenate_2 (Concatenate)     (None, 16, 16, 256)  0           conv2d_transpose_1[0][0]         \n",
      "                                                                 conv2d_8[0][0]                   \n",
      "__________________________________________________________________________________________________\n",
      "dropout_5 (Dropout)             (None, 16, 16, 256)  0           concatenate_2[0][0]              \n",
      "__________________________________________________________________________________________________\n",
      "conv2d_11 (Conv2D)              (None, 16, 16, 128)  295040      dropout_5[0][0]                  \n",
      "__________________________________________________________________________________________________\n",
      "conv2d_12 (Conv2D)              (None, 16, 16, 128)  147584      conv2d_11[0][0]                  \n",
      "__________________________________________________________________________________________________\n",
      "conv2d_transpose_2 (Conv2DTrans (None, 32, 32, 64)   32832       conv2d_12[0][0]                  \n",
      "__________________________________________________________________________________________________\n",
      "concatenate_3 (Concatenate)     (None, 32, 32, 128)  0           conv2d_transpose_2[0][0]         \n",
      "                                                                 conv2d_6[0][0]                   \n",
      "__________________________________________________________________________________________________\n",
      "dropout_6 (Dropout)             (None, 32, 32, 128)  0           concatenate_3[0][0]              \n",
      "__________________________________________________________________________________________________\n",
      "conv2d_13 (Conv2D)              (None, 32, 32, 64)   73792       dropout_6[0][0]                  \n",
      "__________________________________________________________________________________________________\n",
      "conv2d_14 (Conv2D)              (None, 32, 32, 64)   36928       conv2d_13[0][0]                  \n",
      "__________________________________________________________________________________________________\n",
      "conv2d_transpose_3 (Conv2DTrans (None, 64, 64, 32)   8224        conv2d_14[0][0]                  \n",
      "__________________________________________________________________________________________________\n",
      "concatenate_4 (Concatenate)     (None, 64, 64, 64)   0           conv2d_transpose_3[0][0]         \n",
      "                                                                 conv2d_4[0][0]                   \n",
      "__________________________________________________________________________________________________\n",
      "dropout_7 (Dropout)             (None, 64, 64, 64)   0           concatenate_4[0][0]              \n",
      "__________________________________________________________________________________________________\n",
      "conv2d_15 (Conv2D)              (None, 64, 64, 32)   18464       dropout_7[0][0]                  \n",
      "__________________________________________________________________________________________________\n",
      "conv2d_16 (Conv2D)              (None, 64, 64, 32)   9248        conv2d_15[0][0]                  \n",
      "__________________________________________________________________________________________________\n",
      "conv2d_transpose_4 (Conv2DTrans (None, 128, 128, 16) 2064        conv2d_16[0][0]                  \n",
      "__________________________________________________________________________________________________\n",
      "concatenate_5 (Concatenate)     (None, 128, 128, 32) 0           conv2d_transpose_4[0][0]         \n",
      "                                                                 conv2d_2[0][0]                   \n",
      "__________________________________________________________________________________________________\n",
      "dropout_8 (Dropout)             (None, 128, 128, 32) 0           concatenate_5[0][0]              \n",
      "__________________________________________________________________________________________________\n",
      "conv2d_17 (Conv2D)              (None, 128, 128, 16) 4624        dropout_8[0][0]                  \n",
      "__________________________________________________________________________________________________\n",
      "conv2d_18 (Conv2D)              (None, 128, 128, 16) 2320        conv2d_17[0][0]                  \n",
      "__________________________________________________________________________________________________\n",
      "conv2d_19 (Conv2D)              (None, 128, 128, 1)  17          conv2d_18[0][0]                  \n",
      "==================================================================================================\n",
      "Total params: 1,943,265\n",
      "Trainable params: 1,943,265\n",
      "Non-trainable params: 0\n",
      "__________________________________________________________________________________________________\n"
     ]
    }
   ],
   "source": [
    "mod = 'standard_UNet'\n",
    "if(mod == 'standard_UNet_keras'):\n",
    "    num_neurons = 16\n",
    "\n",
    "    # Build U-Net model\n",
    "    input_img = Input((im_height, im_width, im_chan), name='img')\n",
    "    #input_img = Input((None, None, im_chan), name='img')\n",
    "    input_features = Input((n_features, ), name='feat')\n",
    "\n",
    "    c1 = Conv2D(num_neurons, (3, 3), activation='relu', padding='same') (input_img)\n",
    "    c1 = Conv2D(num_neurons, (3, 3), activation='relu', padding='same') (c1)\n",
    "    #c1 = BatchNormalization() (c1)              \n",
    "    p1 = MaxPooling2D((2, 2)) (c1)\n",
    "    p1 = Dropout(0.25) (p1)\n",
    "\n",
    "    c2 = Conv2D(num_neurons*2, (3, 3), activation='relu', padding='same') (p1)\n",
    "    c2 = Conv2D(num_neurons*2, (3, 3), activation='relu', padding='same') (c2)\n",
    "    #c2 = BatchNormalization() (c2)                         \n",
    "    p2 = MaxPooling2D((2, 2)) (c2)\n",
    "    p2 = Dropout(0.5) (p2)\n",
    "\n",
    "    c3 = Conv2D(num_neurons*4, (3, 3), activation='relu', padding='same') (p2)\n",
    "    c3 = Conv2D(num_neurons*4, (3, 3), activation='relu', padding='same') (c3)\n",
    "    #c3 = BatchNormalization() (c3)   \n",
    "    p3 = MaxPooling2D((2, 2)) (c3)\n",
    "    p3 = Dropout(0.5) (p3)\n",
    "\n",
    "    c4 = Conv2D(num_neurons*8, (3, 3), activation='relu', padding='same') (p3)\n",
    "    c4 = Conv2D(num_neurons*8, (3, 3), activation='relu', padding='same') (c4)\n",
    "    #c4 = BatchNormalization() (c4)   \n",
    "    p4 = MaxPooling2D(pool_size=(2, 2)) (c4)\n",
    "    p4 = Dropout(0.5) (p4)\n",
    "\n",
    "    # Join features information in the depthest layer\n",
    "    f_repeat = RepeatVector(8*8)(input_features)\n",
    "    f_conv = Reshape((8, 8, n_features))(f_repeat)\n",
    "    p4_feat = concatenate([p4, f_conv], -1)\n",
    "\n",
    "    c5 = Conv2D(num_neurons*16, (3, 3), activation='relu', padding='same') (p4_feat)\n",
    "    c5 = Conv2D(num_neurons*16, (3, 3), activation='relu', padding='same') (c5)\n",
    "\n",
    "    u6 = Conv2DTranspose(num_neurons*8, (2, 2), strides=(2, 2), padding='same') (c5)\n",
    "    #check out this skip connection thooooo\n",
    "    u6 = concatenate([u6, c4])\n",
    "    u6 = Dropout(0.5) (u6)\n",
    "    c6 = Conv2D(num_neurons*8, (3, 3), activation='relu', padding='same') (u6)\n",
    "    c6 = Conv2D(num_neurons*8, (3, 3), activation='relu', padding='same') (c6)\n",
    "\n",
    "    u7 = Conv2DTranspose(num_neurons*4, (2, 2), strides=(2, 2), padding='same') (c6)\n",
    "    u7 = concatenate([u7, c3])\n",
    "    u7 = Dropout(0.5) (u7)\n",
    "    c7 = Conv2D(num_neurons*4, (3, 3), activation='relu', padding='same') (u7)\n",
    "    c7 = Conv2D(num_neurons*4, (3, 3), activation='relu', padding='same') (c7)\n",
    "\n",
    "    u8 = Conv2DTranspose(num_neurons*2, (2, 2), strides=(2, 2), padding='same') (c7)\n",
    "    u8 = concatenate([u8, c2])\n",
    "    u8 = Dropout(0.5) (u8)\n",
    "    c8 = Conv2D(num_neurons*2, (3, 3), activation='relu', padding='same') (u8)\n",
    "    c8 = Conv2D(num_neurons*2, (3, 3), activation='relu', padding='same') (c8)\n",
    "\n",
    "    u9 = Conv2DTranspose(num_neurons, (2, 2), strides=(2, 2), padding='same') (c8)\n",
    "    u9 = concatenate([u9, c1], axis=3)\n",
    "    u9 = Dropout(0.5) (u9)\n",
    "    c9 = Conv2D(num_neurons, (3, 3), activation='relu', padding='same') (u9)\n",
    "    c9 = Conv2D(num_neurons, (3, 3), activation='relu', padding='same') (c9)\n",
    "\n",
    "    outputs = Conv2D(1, (1, 1), activation='sigmoid') (c9)\n",
    "\n",
    "    model = Model(inputs=[input_img, input_features], outputs=[outputs])\n",
    "    opt_adam = Adam(lr=0.001)\n",
    "    model.compile(optimizer=opt_adam, loss='binary_crossentropy') #, metrics=[mean_iou]) # The mean_iou metrics seens to leak train and test values...\n",
    "    model.summary()\n",
    "\n",
    "elif(mod == 'Unet+Resnet'):\n",
    "    def BatchActivate(x):\n",
    "        x = BatchNormalization()(x)\n",
    "        x = Activation('relu')(x)\n",
    "        return x\n",
    "\n",
    "    def convolution_block(x, filters, size, strides=(1,1), padding='same', activation=True):\n",
    "        x = Conv2D(filters, size, strides=strides, padding=padding)(x)\n",
    "        if activation == True:\n",
    "            x = BatchActivate(x)\n",
    "        return x\n",
    "\n",
    "    def residual_block(blockInput, num_filters=16, batch_activate = False):\n",
    "        x = BatchActivate(blockInput)\n",
    "        x = convolution_block(x, num_filters, (3,3) )\n",
    "        x = convolution_block(x, num_filters, (3,3), activation=False)\n",
    "        x = Add()([x, blockInput])\n",
    "        if batch_activate:\n",
    "            x = BatchActivate(x)\n",
    "        return x\n",
    "\n",
    "    input_layer = Input((im_height, im_width, im_chan))\n",
    "    input_features = Input((n_features, ), name='feat')\n",
    "    \n",
    "    DropoutRatio = 0.5\n",
    "    start_neurons = 16\n",
    "# 101 -> 50\n",
    "    conv1 = Conv2D(start_neurons * 1, (3, 3), activation=None, padding=\"same\")(input_layer)\n",
    "    conv1 = residual_block(conv1,start_neurons * 1)\n",
    "    conv1 = residual_block(conv1,start_neurons * 1, True)\n",
    "    pool1 = MaxPooling2D((2, 2))(conv1)\n",
    "    pool1 = Dropout(DropoutRatio/2)(pool1)\n",
    "\n",
    "    # 50 -> 25\n",
    "    conv2 = Conv2D(start_neurons * 2, (3, 3), activation=None, padding=\"same\")(pool1)\n",
    "    conv2 = residual_block(conv2,start_neurons * 2)\n",
    "    conv2 = residual_block(conv2,start_neurons * 2, True)\n",
    "    pool2 = MaxPooling2D((2, 2))(conv2)\n",
    "    pool2 = Dropout(DropoutRatio)(pool2)\n",
    "\n",
    "    # 25 -> 12\n",
    "    conv3 = Conv2D(start_neurons * 4, (3, 3), activation=None, padding=\"same\")(pool2)\n",
    "    conv3 = residual_block(conv3,start_neurons * 4)\n",
    "    conv3 = residual_block(conv3,start_neurons * 4, True)\n",
    "    pool3 = MaxPooling2D((2, 2))(conv3)\n",
    "    pool3 = Dropout(DropoutRatio)(pool3)\n",
    "\n",
    "    # 12 -> 6\n",
    "    conv4 = Conv2D(start_neurons * 8, (3, 3), activation=None, padding=\"same\")(pool3)\n",
    "    conv4 = residual_block(conv4,start_neurons * 8)\n",
    "    conv4 = residual_block(conv4,start_neurons * 8, True)\n",
    "    pool4 = MaxPooling2D((2, 2))(conv4)\n",
    "    pool4 = Dropout(DropoutRatio)(pool4)\n",
    "\n",
    "    # Join features information in the depthest layer\n",
    "    f_repeat = RepeatVector(8*8)(input_features)\n",
    "    f_conv = Reshape((8, 8, n_features))(f_repeat)\n",
    "    pool4 = concatenate([pool4, f_conv], -1)\n",
    "    \n",
    "    # Middle\n",
    "    convm = Conv2D(start_neurons * 16, (3, 3), activation=None, padding=\"same\")(pool4)\n",
    "    convm = residual_block(convm,start_neurons * 16)\n",
    "    convm = residual_block(convm,start_neurons * 16, True)\n",
    "    \n",
    "    # 6 -> 12\n",
    "    deconv4 = Conv2DTranspose(start_neurons * 8, (3, 3), strides=(2, 2), padding=\"same\")(convm)\n",
    "    uconv4 = concatenate([deconv4, conv4])\n",
    "    uconv4 = Dropout(DropoutRatio)(uconv4)\n",
    "    \n",
    "    uconv4 = Conv2D(start_neurons * 8, (3, 3), activation=None, padding=\"same\")(uconv4)\n",
    "    uconv4 = residual_block(uconv4,start_neurons * 8)\n",
    "    uconv4 = residual_block(uconv4,start_neurons * 8, True)\n",
    "    \n",
    "    # 12 -> 25\n",
    "    #deconv3 = Conv2DTranspose(start_neurons * 4, (3, 3), strides=(2, 2), padding=\"same\")(uconv4)\n",
    "    deconv3 = Conv2DTranspose(start_neurons * 4, (3, 3), strides=(2, 2), padding=\"valid\")(uconv4)\n",
    "    uconv3 = concatenate([deconv3, conv3])    \n",
    "    uconv3 = Dropout(DropoutRatio)(uconv3)\n",
    "    \n",
    "    uconv3 = Conv2D(start_neurons * 4, (3, 3), activation=None, padding=\"same\")(uconv3)\n",
    "    uconv3 = residual_block(uconv3,start_neurons * 4)\n",
    "    uconv3 = residual_block(uconv3,start_neurons * 4, True)\n",
    "\n",
    "    # 25 -> 50\n",
    "    deconv2 = Conv2DTranspose(start_neurons * 2, (3, 3), strides=(2, 2), padding=\"same\")(uconv3)\n",
    "    uconv2 = concatenate([deconv2, conv2])\n",
    "        \n",
    "    uconv2 = Dropout(DropoutRatio)(uconv2)\n",
    "    uconv2 = Conv2D(start_neurons * 2, (3, 3), activation=None, padding=\"same\")(uconv2)\n",
    "    uconv2 = residual_block(uconv2,start_neurons * 2)\n",
    "    uconv2 = residual_block(uconv2,start_neurons * 2, True)\n",
    "    \n",
    "    # 50 -> 101\n",
    "    #deconv1 = Conv2DTranspose(start_neurons * 1, (3, 3), strides=(2, 2), padding=\"same\")(uconv2)\n",
    "    deconv1 = Conv2DTranspose(start_neurons * 1, (3, 3), strides=(2, 2), padding=\"valid\")(uconv2)\n",
    "    uconv1 = concatenate([deconv1, conv1])\n",
    "    \n",
    "    uconv1 = Dropout(DropoutRatio)(uconv1)\n",
    "    uconv1 = Conv2D(start_neurons * 1, (3, 3), activation=None, padding=\"same\")(uconv1)\n",
    "    uconv1 = residual_block(uconv1,start_neurons * 1)\n",
    "    uconv1 = residual_block(uconv1,start_neurons * 1, True)\n",
    "    \n",
    "    #uconv1 = Dropout(DropoutRatio/2)(uconv1)\n",
    "    #output_layer = Conv2D(1, (1,1), padding=\"same\", activation=\"sigmoid\")(uconv1)\n",
    "    output_layer_noActi = Conv2D(1, (1,1), padding=\"same\", activation=None)(uconv1)\n",
    "    output_layer =  Activation('sigmoid')(output_layer_noActi)\n",
    "    \n",
    "    \n",
    "    model = Model(inputs=[input_img, input_features], outputs=[outputs])\n",
    "    opt_adam = Adam(lr=0.001)\n",
    "    model.compile(optimizer=opt_adam, loss='binary_crossentropy') #, metrics=[mean_iou]) # The mean_iou metrics seens to leak train and test values...\n",
    "    model.summary() "
   ]
  },
  {
   "cell_type": "code",
   "execution_count": 22,
   "metadata": {
    "colab": {
     "base_uri": "https://localhost:8080/",
     "height": 632
    },
    "colab_type": "code",
    "id": "WxuKipDiEbZP",
    "outputId": "220d733d-e4a1-445e-d937-9eace26f3d6c"
   },
   "outputs": [],
   "source": [
    "#!pip install ipywidgets\n",
    "#print(train_path+\"/images\")\n"
   ]
  },
  {
   "cell_type": "code",
   "execution_count": 23,
   "metadata": {
    "colab": {
     "base_uri": "https://localhost:8080/",
     "height": 68
    },
    "colab_type": "code",
    "id": "Co8wbV9wDpEX",
    "outputId": "4662dfbf-4c64-4eaa-aea2-e0f9c28d4290"
   },
   "outputs": [
    {
     "name": "stdout",
     "output_type": "stream",
     "text": [
      "Getting and resizing train images and masks ... \n"
     ]
    },
    {
     "name": "stderr",
     "output_type": "stream",
     "text": [
      "  0%|          | 0/4000 [00:00<?, ?it/s]/home/katou/anaconda3/envs/GPU/lib/python3.6/site-packages/skimage/transform/_warps.py:110: UserWarning: Anti-aliasing will be enabled by default in skimage 0.15 to avoid aliasing artifacts when down-sampling images.\n",
      "  warn(\"Anti-aliasing will be enabled by default in skimage 0.15 to \"\n",
      "100%|██████████| 4000/4000 [00:11<00:00, 348.90it/s]"
     ]
    },
    {
     "name": "stdout",
     "output_type": "stream",
     "text": [
      "Done!\n"
     ]
    },
    {
     "name": "stderr",
     "output_type": "stream",
     "text": [
      "\n"
     ]
    }
   ],
   "source": [
    "import sys\n",
    "from tqdm import tqdm\n",
    "from keras.preprocessing.image import ImageDataGenerator, array_to_img, img_to_array, load_img\n",
    "from skimage.transform import resize\n",
    "\n",
    "\n",
    "train_ids = next(os.walk(train_path+\"/images\"))[2] if location == 'home' else next(os.walk(train_path+\"\\\\images\"))[2]\n",
    "\n",
    "\n",
    "# Get and resize train images and masks\n",
    "X = np.zeros((len(train_ids), im_height, im_width, im_chan), dtype=np.float32)\n",
    "y = np.zeros((len(train_ids), im_height, im_width, 1), dtype=np.float32)\n",
    "X_feat = np.zeros((len(train_ids), n_features), dtype=np.float32)\n",
    "print('Getting and resizing train images and masks ... ')\n",
    "sys.stdout.flush()\n",
    "for n, id_ in tqdm(enumerate(train_ids), total=len(train_ids)):\n",
    "    path = train_path\n",
    "    \n",
    "    # Depth\n",
    "    #X_feat[n] = depth.loc[id_.replace('.png', ''), 'z']\n",
    "    \n",
    "    # Load X\n",
    "    img = load_img(path + '/images/' + id_, grayscale=True) if location == 'home' else load_img(path + '\\\\images\\\\' + id_, grayscale=True)\n",
    "    x_img = img_to_array(img)\n",
    "    x_img = resize(x_img, (128, 128, 1), mode='constant', preserve_range=True)\n",
    "    \n",
    "    # Create cumsum x\n",
    "    x_center_mean = x_img[border:-border, border:-border].mean()\n",
    "    x_csum = (np.float32(x_img)-x_center_mean).cumsum(axis=0)\n",
    "    x_csum -= x_csum[border:-border, border:-border].mean()\n",
    "    x_csum /= max(1e-3, x_csum[border:-border, border:-border].std())\n",
    "\n",
    "    # Load Y\n",
    "    mask = img_to_array(load_img(path + '/masks/' + id_, grayscale=True)) if location == 'home' else img_to_array(load_img(path + '\\\\masks\\\\' + id_, grayscale=True))\n",
    "    mask = resize(mask, (128, 128, 1), mode='constant', preserve_range=True)\n",
    "\n",
    "    # Save images\n",
    "    X[n, ..., 0] = x_img.squeeze() / 255\n",
    "    X[n, ..., 1] = x_csum.squeeze()\n",
    "    y[n] = mask / 255\n",
    "\n",
    "print('Done!')"
   ]
  },
  {
   "cell_type": "code",
   "execution_count": 24,
   "metadata": {},
   "outputs": [
    {
     "name": "stdout",
     "output_type": "stream",
     "text": [
      "(4000, 128, 128, 1)\n",
      "0.8201184\n"
     ]
    }
   ],
   "source": [
    "print(y.shape)\n",
    "print(np.mean(y[100,:,:,0]))\n"
   ]
  },
  {
   "cell_type": "code",
   "execution_count": 26,
   "metadata": {
    "colab": {},
    "colab_type": "code",
    "id": "K6Kj_YzKKIsn"
   },
   "outputs": [
    {
     "name": "stdout",
     "output_type": "stream",
     "text": [
      "(3400, 128, 128, 2)\n",
      "(600, 128, 128, 2)\n",
      "(3400, 1)\n",
      "(600, 1)\n",
      "(3400, 128, 128, 1)\n",
      "(600, 128, 128, 1)\n"
     ]
    }
   ],
   "source": [
    "from sklearn.model_selection import train_test_split\n",
    "\n",
    "#split the data using the coverage of salt in the image\n",
    "Cov = np.zeros((y.shape[0],),dtype = float)\n",
    "for i in range(y.shape[0]):\n",
    "    Cov[i] = np.mean(y[100,:,:,0])\n",
    "\n",
    "\n",
    "X_train, X_valid, X_feat_train, X_feat_valid, y_train, y_valid = train_test_split(X, X_feat, y, \n",
    "                                                                    test_size=0.15, stratify=Cov, random_state=42)\n",
    "\n",
    "\n",
    "print(X_train.shape)\n",
    "print(X_valid.shape)\n",
    "print(X_feat_train.shape) \n",
    "print(X_feat_valid.shape )\n",
    "print(y_train.shape )\n",
    "print(y_valid.shape)\n"
   ]
  },
  {
   "cell_type": "markdown",
   "metadata": {},
   "source": [
    "Data Augmentation on the input\n",
    "1) Images can be flipped vertically\n",
    "2) Image can be tilted\n",
    "3) Image can be dilated\n",
    "\n",
    "!!!! NOTE that the augmentation can be added to the classification problem by predicting the class on augmented validation data. Here it should not be used because any transformation on the validation data will just mess up the pixel-wise classification "
   ]
  },
  {
   "cell_type": "code",
   "execution_count": 27,
   "metadata": {},
   "outputs": [
    {
     "name": "stdout",
     "output_type": "stream",
     "text": [
      "(6800, 128, 128, 2)\n",
      "(600, 128, 128, 2)\n",
      "(6800, 1)\n",
      "(600, 1)\n",
      "(6800, 128, 128, 1)\n",
      "(600, 128, 128, 1)\n"
     ]
    }
   ],
   "source": [
    "from keras.preprocessing.image import ImageDataGenerator\n",
    "\n",
    "X_train = np.append(X_train, [np.fliplr(x) for x in X_train], axis=0)\n",
    "y_train = np.append(y_train, [np.fliplr(x) for x in y_train], axis=0)\n",
    "X_feat_train = np.append(X_feat_train,[x for x in X_feat_train],axis=0)\n",
    "\n",
    "\n",
    "#rot = skimage.transform.rotate(img, angle=45, mode='reflect')\n",
    "#scale_out = skimage.transform.rescale(img, scale=2.0, mode='constant')\n",
    "\n",
    "#random crop of the image\n",
    "\n",
    "# Adding Gaussian noise\n",
    "#noise = tf.random_normal(shape=tf.shape(x), mean=0.0, stddev=1.0,\n",
    "#dtype=tf.float32)\n",
    "#output = tf.add(x, noise)\n",
    "\n",
    "#train_datagen = ImageDataGenerator(preprocessing_function=preprocess_input,\n",
    "#    shear_range=0.2, zoom_range=0.2, horizontal_flip=True,rescale=1./255,rotation_range=40,width_shift_range=0.2,\n",
    "#    height_shift_range=0.2,fill_mode='nearest'\n",
    "#   )\n",
    "\n",
    "# = train_datagen.flow_from_directory(train_data_dir,\n",
    "#    target_size=(sz, sz),\n",
    "#    batch_size=batch_size, class_mode='binary')\n",
    "print(X_train.shape)\n",
    "print(X_valid.shape)\n",
    "print(X_feat_train.shape) \n",
    "print(X_feat_valid.shape )\n",
    "print(y_train.shape )\n",
    "print(y_valid.shape)\n"
   ]
  },
  {
   "cell_type": "code",
   "execution_count": null,
   "metadata": {
    "colab": {
     "base_uri": "https://localhost:8080/",
     "height": 1407
    },
    "colab_type": "code",
    "id": "aH2z9T-KKOsn",
    "outputId": "96e182b7-a887-4868-bb35-b70ec0af1246"
   },
   "outputs": [
    {
     "name": "stdout",
     "output_type": "stream",
     "text": [
      "Train on 6800 samples, validate on 600 samples\n",
      "Epoch 1/100\n",
      "6784/6800 [============================>.] - ETA: 0s - loss: 0.5070Epoch 00001: val_loss improved from inf to 0.39755, saving model to model-tgs-salt-1-augmentation1_increased_dropout2_batchnorm2.h5\n",
      "6800/6800 [==============================] - 51s 8ms/step - loss: 0.5065 - val_loss: 0.3976\n",
      "Epoch 2/100\n",
      "6784/6800 [============================>.] - ETA: 0s - loss: 0.3925Epoch 00002: val_loss improved from 0.39755 to 0.39025, saving model to model-tgs-salt-1-augmentation1_increased_dropout2_batchnorm2.h5\n",
      "6800/6800 [==============================] - 47s 7ms/step - loss: 0.3924 - val_loss: 0.3902\n",
      "Epoch 3/100\n",
      "6784/6800 [============================>.] - ETA: 0s - loss: 0.3357Epoch 00003: val_loss improved from 0.39025 to 0.28484, saving model to model-tgs-salt-1-augmentation1_increased_dropout2_batchnorm2.h5\n",
      "6800/6800 [==============================] - 46s 7ms/step - loss: 0.3354 - val_loss: 0.2848\n",
      "Epoch 4/100\n",
      "6784/6800 [============================>.] - ETA: 0s - loss: 0.2957Epoch 00004: val_loss improved from 0.28484 to 0.24249, saving model to model-tgs-salt-1-augmentation1_increased_dropout2_batchnorm2.h5\n",
      "6800/6800 [==============================] - 46s 7ms/step - loss: 0.2960 - val_loss: 0.2425\n",
      "Epoch 5/100\n",
      "6784/6800 [============================>.] - ETA: 0s - loss: 0.2739Epoch 00005: val_loss improved from 0.24249 to 0.23278, saving model to model-tgs-salt-1-augmentation1_increased_dropout2_batchnorm2.h5\n",
      "6800/6800 [==============================] - 47s 7ms/step - loss: 0.2738 - val_loss: 0.2328\n",
      "Epoch 6/100\n",
      "6784/6800 [============================>.] - ETA: 0s - loss: 0.2473Epoch 00006: val_loss did not improve\n",
      "6800/6800 [==============================] - 46s 7ms/step - loss: 0.2473 - val_loss: 0.2521\n",
      "Epoch 7/100\n",
      "6784/6800 [============================>.] - ETA: 0s - loss: 0.2370Epoch 00007: val_loss did not improve\n",
      "6800/6800 [==============================] - 46s 7ms/step - loss: 0.2370 - val_loss: 0.2493\n",
      "Epoch 8/100\n",
      "6784/6800 [============================>.] - ETA: 0s - loss: 0.2248Epoch 00008: val_loss improved from 0.23278 to 0.20622, saving model to model-tgs-salt-1-augmentation1_increased_dropout2_batchnorm2.h5\n",
      "6800/6800 [==============================] - 46s 7ms/step - loss: 0.2249 - val_loss: 0.2062\n",
      "Epoch 9/100\n",
      "6784/6800 [============================>.] - ETA: 0s - loss: 0.2134Epoch 00009: val_loss did not improve\n",
      "6800/6800 [==============================] - 46s 7ms/step - loss: 0.2135 - val_loss: 0.2700\n",
      "Epoch 10/100\n",
      "6784/6800 [============================>.] - ETA: 0s - loss: 0.2068Epoch 00010: val_loss improved from 0.20622 to 0.20413, saving model to model-tgs-salt-1-augmentation1_increased_dropout2_batchnorm2.h5\n",
      "6800/6800 [==============================] - 46s 7ms/step - loss: 0.2065 - val_loss: 0.2041\n",
      "Epoch 11/100\n",
      "6784/6800 [============================>.] - ETA: 0s - loss: 0.2176Epoch 00011: val_loss did not improve\n",
      "6800/6800 [==============================] - 46s 7ms/step - loss: 0.2177 - val_loss: 0.2107\n",
      "Epoch 12/100\n",
      "6784/6800 [============================>.] - ETA: 0s - loss: 0.2112Epoch 00012: val_loss did not improve\n",
      "6800/6800 [==============================] - 46s 7ms/step - loss: 0.2115 - val_loss: 0.2491\n",
      "Epoch 13/100\n",
      "6784/6800 [============================>.] - ETA: 0s - loss: 0.1974Epoch 00013: val_loss did not improve\n",
      "6800/6800 [==============================] - 46s 7ms/step - loss: 0.1973 - val_loss: 0.2070\n",
      "Epoch 14/100\n",
      "6784/6800 [============================>.] - ETA: 0s - loss: 0.1922\n",
      "Epoch 00014: reducing learning rate to 0.0005000000237487257.\n",
      "Epoch 00014: val_loss did not improve\n",
      "6800/6800 [==============================] - 46s 7ms/step - loss: 0.1920 - val_loss: 0.2352\n",
      "Epoch 15/100\n",
      "6784/6800 [============================>.] - ETA: 0s - loss: 0.1780Epoch 00015: val_loss did not improve\n",
      "6800/6800 [==============================] - 46s 7ms/step - loss: 0.1779 - val_loss: 0.2513\n",
      "Epoch 16/100\n",
      "6784/6800 [============================>.] - ETA: 0s - loss: 0.1711Epoch 00016: val_loss did not improve\n",
      "6800/6800 [==============================] - 46s 7ms/step - loss: 0.1711 - val_loss: 0.2634\n",
      "Epoch 17/100\n",
      "6784/6800 [============================>.] - ETA: 0s - loss: 0.1673Epoch 00017: val_loss improved from 0.20413 to 0.17458, saving model to model-tgs-salt-1-augmentation1_increased_dropout2_batchnorm2.h5\n",
      "6800/6800 [==============================] - 46s 7ms/step - loss: 0.1672 - val_loss: 0.1746\n",
      "Epoch 18/100\n",
      "6784/6800 [============================>.] - ETA: 0s - loss: 0.1656Epoch 00018: val_loss improved from 0.17458 to 0.14958, saving model to model-tgs-salt-1-augmentation1_increased_dropout2_batchnorm2.h5\n",
      "6800/6800 [==============================] - 46s 7ms/step - loss: 0.1658 - val_loss: 0.1496\n",
      "Epoch 19/100\n",
      "4160/6800 [=================>............] - ETA: 17s - loss: 0.1621"
     ]
    }
   ],
   "source": [
    "callbacks = [\n",
    "    EarlyStopping(patience=10, verbose=1),\n",
    "    ReduceLROnPlateau(patience=3, verbose=1,min_lr=0.00001,factor=0.5),\n",
    "    ModelCheckpoint('model-tgs-salt-1-augmentation1_increased_dropout2_batchnorm2.h5', verbose=1, save_best_only=True, save_weights_only=True)\n",
    "]\n",
    "\n",
    "results = model.fit({'img': X_train, 'feat': X_feat_train}, y_train, batch_size=16, epochs=100, verbose =1,callbacks=callbacks,\n",
    "                    validation_data=({'img': X_valid, 'feat': X_feat_valid}, y_valid)\n",
    "                   )"
   ]
  },
  {
   "cell_type": "code",
   "execution_count": null,
   "metadata": {},
   "outputs": [],
   "source": [
    "print(results)\n",
    "pred = model.predict({'img': X_valid, 'feat': X_feat_valid},verbose = 1)\n",
    "\n",
    "print(pred.shape)\n",
    "print(y_valid.shape)"
   ]
  },
  {
   "cell_type": "code",
   "execution_count": null,
   "metadata": {},
   "outputs": [],
   "source": [
    "#from IOU_metric import iou_numpy\n",
    "def iou_numpy(outputs: np.array, labels: np.array,threshold: float):\n",
    "    SMOOTH = 1e-6\n",
    "    outputs = outputs.squeeze(axis = 3)\n",
    "    labels = labels.squeeze(axis = 3)\n",
    "    \n",
    "    intersection = (outputs & labels).sum((1, 2))\n",
    "    union = (outputs | labels).sum((1, 2))\n",
    "    \n",
    "    iou = (intersection + SMOOTH) / (union + SMOOTH)\n",
    "    \n",
    "    #thresholded = np.ceil(np.clip(20 * (iou - 0.5), 0, 10)) / 10\n",
    "    thresholded = np.ceil(np.clip(20 * (iou - threshold), 0, 10)) / 10\n",
    "    \n",
    "    return thresholded\n",
    "\n",
    "def iou_metric(y_true_in, y_pred_in, print_table=False):\n",
    "    labels = y_true_in\n",
    "    y_pred = y_pred_in\n",
    "    \n",
    "    true_objects = 2\n",
    "    pred_objects = 2\n",
    "\n",
    "    intersection = np.histogram2d(labels.flatten(), y_pred.flatten(), bins=(true_objects, pred_objects))[0]\n",
    "\n",
    "    # Compute areas (needed for finding the union between all objects)\n",
    "    area_true = np.histogram(labels, bins = true_objects)[0]\n",
    "    area_pred = np.histogram(y_pred, bins = pred_objects)[0]\n",
    "    area_true = np.expand_dims(area_true, -1)\n",
    "    area_pred = np.expand_dims(area_pred, 0)\n",
    "\n",
    "    # Compute union\n",
    "    union = area_true + area_pred - intersection\n",
    "\n",
    "    # Exclude background from the analysis\n",
    "    intersection = intersection[1:,1:]\n",
    "    union = union[1:,1:]\n",
    "    union[union == 0] = 1e-9\n",
    "\n",
    "    # Compute the intersection over union\n",
    "    iou = intersection / union\n",
    "\n",
    "    # Precision helper function\n",
    "    def precision_at(threshold, iou):\n",
    "        matches = iou > threshold\n",
    "        true_positives = np.sum(matches, axis=1) == 1   # Correct objects\n",
    "        false_positives = np.sum(matches, axis=0) == 0  # Missed objects\n",
    "        false_negatives = np.sum(matches, axis=1) == 0  # Extra objects\n",
    "        tp, fp, fn = np.sum(true_positives), np.sum(false_positives), np.sum(false_negatives)\n",
    "        return tp, fp, fn\n",
    "\n",
    "    # Loop over IoU thresholds\n",
    "    prec = []\n",
    "    if print_table:\n",
    "        print(\"Thresh\\tTP\\tFP\\tFN\\tPrec.\")\n",
    "    for t in np.arange(0.5, 1.0, 0.05):\n",
    "        tp, fp, fn = precision_at(t, iou)\n",
    "        if (tp + fp + fn) > 0:\n",
    "            p = tp / (tp + fp + fn)\n",
    "        else:\n",
    "            p = 0\n",
    "        if print_table:\n",
    "            print(\"{:1.3f}\\t{}\\t{}\\t{}\\t{:1.3f}\".format(t, tp, fp, fn, p))\n",
    "        prec.append(p)\n",
    "    \n",
    "    if print_table:\n",
    "        print(\"AP\\t-\\t-\\t-\\t{:1.3f}\".format(np.mean(prec)))\n",
    "    return np.mean(prec)\n",
    "\n",
    "def iou_metric_batch(y_true_in, y_pred_in):\n",
    "    batch_size = y_true_in.shape[0]\n",
    "    metric = []\n",
    "    for batch in range(batch_size):\n",
    "        value = iou_metric(y_true_in[batch], y_pred_in[batch])\n",
    "        metric.append(value)\n",
    "    return np.mean(metric)\n"
   ]
  },
  {
   "cell_type": "code",
   "execution_count": null,
   "metadata": {},
   "outputs": [],
   "source": [
    "IOU_50 = iou_numpy(np.round(pred).astype(int),np.round(y_valid).astype(int), 0.5)\n",
    "IOU_90 = iou_numpy(np.round(pred).astype(int),np.round(y_valid).astype(int), 0.9)\n",
    "print('IOU metric threshold = 50%: {0}, threshold = 90%: {1}'.format(np.mean(IOU_50),np.mean(IOU_90)))"
   ]
  },
  {
   "cell_type": "code",
   "execution_count": null,
   "metadata": {},
   "outputs": [],
   "source": [
    "IOU2_50 = iou_metric_batch(np.round(y_valid).astype(int).squeeze(axis = 3),np.round(pred).astype(int).squeeze(axis = 3))\n",
    "print('IOU metric: {0} , {1}'.format(np.mean(IOU2_50),np.mean(IOU2_50)))"
   ]
  },
  {
   "cell_type": "code",
   "execution_count": null,
   "metadata": {},
   "outputs": [],
   "source": [
    "thresholds = np.linspace(0, 1, 50)\n",
    "ious = np.array([iou_metric_batch(y_valid, np.int32(pred > threshold)) for threshold in thresholds])\n",
    "                 "
   ]
  },
  {
   "cell_type": "code",
   "execution_count": null,
   "metadata": {},
   "outputs": [],
   "source": [
    "plt.plot(thresholds,ious,'-xb')"
   ]
  },
  {
   "cell_type": "code",
   "execution_count": null,
   "metadata": {},
   "outputs": [],
   "source": [
    "threshold_best_index = np.argmax(ious[9:-10]) + 9\n",
    "iou_best = ious[threshold_best_index]\n",
    "threshold_best = thresholds[threshold_best_index]\n",
    "print('Best IOU score: {0}, threshold used: {1}'.format(iou_best,threshold_best))"
   ]
  },
  {
   "cell_type": "code",
   "execution_count": null,
   "metadata": {},
   "outputs": [],
   "source": [
    "\n",
    "a=pred.squeeze(axis = 3)\n",
    "print(y_valid.shape)\n"
   ]
  },
  {
   "cell_type": "code",
   "execution_count": null,
   "metadata": {},
   "outputs": [],
   "source": [
    "i=np.random.randint(0, y_valid.shape[0])\n",
    "\n",
    "a= y_valid[i,:,:].reshape((y_valid.shape[1],y_valid.shape[2]))\n",
    "b= pred[i,:,:].reshape((y_valid.shape[1],y_valid.shape[2]))\n",
    "c = 255*X_valid[i,:,:,1].reshape((X_valid.shape[1],X_valid.shape[2]))\n",
    "\n",
    "plot2x2Array(a, np.round(b))\n",
    "plot2x2Array(a,c)"
   ]
  },
  {
   "cell_type": "code",
   "execution_count": null,
   "metadata": {},
   "outputs": [],
   "source": []
  },
  {
   "cell_type": "code",
   "execution_count": null,
   "metadata": {},
   "outputs": [],
   "source": []
  }
 ],
 "metadata": {
  "colab": {
   "collapsed_sections": [],
   "name": "salt_identification.ipynb",
   "provenance": [],
   "version": "0.3.2"
  },
  "kernelspec": {
   "display_name": "Python 3",
   "language": "python",
   "name": "python3"
  },
  "language_info": {
   "codemirror_mode": {
    "name": "ipython",
    "version": 3
   },
   "file_extension": ".py",
   "mimetype": "text/x-python",
   "name": "python",
   "nbconvert_exporter": "python",
   "pygments_lexer": "ipython3",
   "version": "3.6.6"
  }
 },
 "nbformat": 4,
 "nbformat_minor": 1
}
